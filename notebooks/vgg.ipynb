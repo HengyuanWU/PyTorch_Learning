{
 "cells": [
  {
   "cell_type": "markdown",
   "id": "0cbeb8e5",
   "metadata": {},
   "source": [
    "\n",
    "# VGG-16/VGG-19 Training Notebook\n",
    "\n",
    "本 Notebook 演示如何使用 `train/train_vgg.py` 中的函数在 CIFAR-10 上训练 VGG-16 或 VGG-19，并进行结果可视化与超参数实验。\n"
   ]
  },
  {
   "cell_type": "code",
   "execution_count": null,
   "id": "f2b5ef29",
   "metadata": {},
   "outputs": [],
   "source": [
    "\n",
    "# 如果你的 notebook 已经在 PyTorch_Learning/notebooks 里启动\n",
    "import os\n",
    "import sys\n",
    "\n",
    "from utils import PROJECT_ROOT\n",
    "\n",
    "# 确保能 import train 和 utils\n",
    "sys.path.append(os.path.abspath(\"..\"))\n",
    "print(\"项目根目录：\", os.path.abspath(\"..\"))\n",
    "\n",
    "# 输出目录\n",
    "outputs_dir = os.path.join(PROJECT_ROOT, \"outputs\")\n",
    "print(\"Outputs 目录：\", outputs_dir)\n",
    "\n",
    "# 导入数据加载器和训练函数\n",
    "from train.train_vgg import get_cifar10_loader, run_vgg_training\n",
    "from utils.visualization import plot_training_metrics\n",
    "from utils.experiment import save_experiment_results, load_experiment_results\n"
   ]
  },
  {
   "cell_type": "markdown",
   "id": "de3a7ba8",
   "metadata": {},
   "source": [
    "## 1. 构建 DataLoader"
   ]
  },
  {
   "cell_type": "code",
   "execution_count": null,
   "id": "d0654d66",
   "metadata": {},
   "outputs": [],
   "source": [
    "\n",
    "# 构造用于 VGG 的 CIFAR-10 数据加载器\n",
    "train_loader = get_cifar10_loader(batch_size=64, train=True, img_size=224)\n",
    "test_loader  = get_cifar10_loader(batch_size=256, train=False, img_size=224)\n",
    "\n",
    "print(\"训练集 batch 数：\", len(train_loader))\n",
    "print(\"测试集 batch 数：\", len(test_loader))\n"
   ]
  },
  {
   "cell_type": "markdown",
   "id": "0d826694",
   "metadata": {},
   "source": [
    "## 2. 快速训练并可视化指标"
   ]
  },
  {
   "cell_type": "code",
   "execution_count": null,
   "id": "d7af0b81",
   "metadata": {},
   "outputs": [],
   "source": [
    "\n",
    "# 运行 3 个 epoch 的快速训练\n",
    "metrics = run_vgg_training(\n",
    "    model_type='vgg16',\n",
    "    epochs=3,\n",
    "    train_batch_size=64,\n",
    "    test_batch_size=256,\n",
    "    lr=0.01,\n",
    "    momentum=0.9,\n",
    "    weight_decay=5e-4,\n",
    "    patience=2,\n",
    "    log_interval=200,\n",
    "    output_dir=os.path.join(outputs_dir, \"vgg_quick\")\n",
    ")\n",
    "print(metrics)\n",
    "\n",
    "# 可视化训练/验证损失与准确率\n",
    "metrics_dir = os.path.join(outputs_dir, \"vgg_quick_metrics\")\n",
    "os.makedirs(metrics_dir, exist_ok=True)\n",
    "plot_training_metrics(metrics, save_path=metrics_dir)\n"
   ]
  },
  {
   "cell_type": "markdown",
   "id": "af2744cc",
   "metadata": {},
   "source": [
    "## 3. 超参数网格实验"
   ]
  },
  {
   "cell_type": "code",
   "execution_count": null,
   "id": "135f1bc7",
   "metadata": {},
   "outputs": [],
   "source": [
    "\n",
    "# 定义超参数组合\n",
    "param_grid = [\n",
    "    {\"model_type\": \"vgg16\", \"lr\": 0.01, \"momentum\": 0.9,  \"batch_size\": 64},\n",
    "    {\"model_type\": \"vgg16\", \"lr\": 0.01, \"momentum\": 0.95, \"batch_size\": 128},\n",
    "    {\"model_type\": \"vgg19\", \"lr\": 0.01, \"momentum\": 0.9,  \"batch_size\": 64},\n",
    "    {\"model_type\": \"vgg19\", \"lr\": 0.001, \"momentum\": 0.9, \"batch_size\": 256},\n",
    "]\n",
    "\n",
    "all_results = []\n",
    "for cfg in param_grid:\n",
    "    metrics = run_vgg_training(\n",
    "        model_type=cfg[\"model_type\"],\n",
    "        epochs=10,\n",
    "        train_batch_size=cfg[\"batch_size\"],\n",
    "        test_batch_size=256,\n",
    "        lr=cfg[\"lr\"],\n",
    "        momentum=cfg[\"momentum\"],\n",
    "        weight_decay=5e-4,\n",
    "        patience=3,\n",
    "        log_interval=200,\n",
    "        output_dir=os.path.join(\n",
    "            outputs_dir, \"vgg_experiments\",\n",
    "            f\"{cfg['model_type']}_lr{cfg['lr']}_mom{cfg['momentum']}_bs{cfg['batch_size']}\"\n",
    "        )\n",
    "    )\n",
    "    all_results.append({\"config\": cfg, \"metrics\": metrics})\n",
    "\n",
    "# 保存实验结果\n",
    "exp_path = os.path.join(outputs_dir, \"vgg_experiment_results.json\")\n",
    "save_experiment_results(all_results, exp_path)\n"
   ]
  },
  {
   "cell_type": "markdown",
   "id": "f93ca3b1",
   "metadata": {},
   "source": [
    "## 4. 超参数并行坐标可视化"
   ]
  },
  {
   "cell_type": "code",
   "execution_count": null,
   "id": "58212ba7",
   "metadata": {},
   "outputs": [],
   "source": [
    "\n",
    "# 加载实验结果并绘制并行坐标图\n",
    "results = load_experiment_results(exp_path)\n",
    "from utils.visualization import plot_experiment_comparison, plot_hyperparam_parallel\n",
    "\n",
    "plot_experiment_comparison(results, metric=\"accuracy\")\n",
    "plot_hyperparam_parallel(results)\n"
   ]
  }
 ],
 "metadata": {},
 "nbformat": 4,
 "nbformat_minor": 5
}
