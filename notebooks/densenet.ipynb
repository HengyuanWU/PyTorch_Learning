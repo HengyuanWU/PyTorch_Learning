{
 "cells": [
  {
   "cell_type": "markdown",
   "id": "0a01add8",
   "metadata": {},
   "source": [
    "# 🧬 DenseNet Exploration Notebook\n",
    "\n",
    "Welcome!  This notebook re‑creates all the learning experiments you did\n",
    "with **LeNet** – but for **DenseNet**.  We reuse your existing\n",
    "`densenet.py` model definitions and the training helper\n",
    "`train_densenet.py` so you can focus on experimentation rather than\n",
    "boilerplate.\n"
   ]
  },
  {
   "cell_type": "markdown",
   "id": "1265e0f6",
   "metadata": {},
   "source": [
    "## Setup"
   ]
  },
  {
   "cell_type": "code",
   "execution_count": null,
   "id": "cd0a9a91",
   "metadata": {},
   "outputs": [],
   "source": [
    "# Uncomment on first run\n",
    "# !pip install --quiet torch torchvision matplotlib tqdm\n",
    "\n",
    "from train.train_densenet import run_densenet_training  # 👈 your helper\n",
    "from itertools import product\n",
    "import json, time, pathlib, matplotlib.pyplot as plt\n"
   ]
  },
  {
   "cell_type": "markdown",
   "id": "c4c636f0",
   "metadata": {},
   "source": [
    "## 1️⃣  Baseline: lightweight CIFAR‑DenseNet"
   ]
  },
  {
   "cell_type": "code",
   "execution_count": null,
   "id": "b5a3df74",
   "metadata": {},
   "outputs": [],
   "source": [
    "history_light = run_densenet_training(\n",
    "    model_type='densenetcustom',   # lightweight variant\n",
    "    epochs=100,\n",
    "    train_batch_size=128,\n",
    "    test_batch_size=256,\n",
    "    learning_rate=0.1,\n",
    "    optimiser='sgd',\n",
    ")\n"
   ]
  },
  {
   "cell_type": "markdown",
   "id": "c3de7dc7",
   "metadata": {},
   "source": [
    "### Learning curves (lightweight)"
   ]
  },
  {
   "cell_type": "code",
   "execution_count": null,
   "id": "e7e670ea",
   "metadata": {},
   "outputs": [],
   "source": [
    "val_loss, val_acc = zip(*history_light)\n",
    "plt.figure(figsize=(6,4))\n",
    "plt.plot(val_loss); plt.title('Light DenseNet – validation loss');\n",
    "plt.xlabel('Epoch'); plt.ylabel('Loss'); plt.show()\n",
    "\n",
    "plt.figure(figsize=(6,4))\n",
    "plt.plot(val_acc); plt.title('Light DenseNet – validation accuracy');\n",
    "plt.xlabel('Epoch'); plt.ylabel('Accuracy'); plt.show()\n"
   ]
  },
  {
   "cell_type": "markdown",
   "id": "ecd214bf",
   "metadata": {},
   "source": [
    "## 2️⃣  Baseline: full DenseNet‑121"
   ]
  },
  {
   "cell_type": "code",
   "execution_count": null,
   "id": "bc2e48d8",
   "metadata": {},
   "outputs": [],
   "source": [
    "history_121 = run_densenet_training(\n",
    "    model_type='densenet121',\n",
    "    epochs=100,\n",
    "    train_batch_size=128,\n",
    "    test_batch_size=256,\n",
    "    learning_rate=0.1,\n",
    "    optimiser='sgd',\n",
    ")\n"
   ]
  },
  {
   "cell_type": "markdown",
   "id": "542c2686",
   "metadata": {},
   "source": [
    "### Learning curves (DenseNet‑121)"
   ]
  },
  {
   "cell_type": "code",
   "execution_count": null,
   "id": "9fe89620",
   "metadata": {},
   "outputs": [],
   "source": [
    "val_loss, val_acc = zip(*history_121)\n",
    "plt.figure(figsize=(6,4))\n",
    "plt.plot(val_loss); plt.title('DenseNet‑121 – validation loss');\n",
    "plt.xlabel('Epoch'); plt.ylabel('Loss'); plt.show()\n",
    "\n",
    "plt.figure(figsize=(6,4))\n",
    "plt.plot(val_acc); plt.title('DenseNet‑121 – validation accuracy');\n",
    "plt.xlabel('Epoch'); plt.ylabel('Accuracy'); plt.show()\n"
   ]
  },
  {
   "cell_type": "markdown",
   "id": "62bd7567",
   "metadata": {},
   "source": [
    "## 3️⃣  Grid‑search hyper‑parameter sweep"
   ]
  },
  {
   "cell_type": "markdown",
   "id": "6d311804",
   "metadata": {},
   "source": [
    "We replicate the grid‑search you performed with LeNet.  The search\n",
    "space below is small by default so the notebook finishes in a reasonable\n",
    "time – feel free to expand the lists."
   ]
  },
  {
   "cell_type": "code",
   "execution_count": null,
   "id": "6972114f",
   "metadata": {},
   "outputs": [],
   "source": [
    "param_grid = {\n",
    "    'model_type':        ['densenetcustom', 'densenet121'],\n",
    "    'train_batch_size':  [64, 128],\n",
    "    'learning_rate':     [0.1, 0.01],\n",
    "    'optimiser':         ['sgd', 'adam'],\n",
    "}\n",
    "\n",
    "search_results = []\n",
    "run_id = 0\n",
    "\n",
    "for model_type, bs, lr, opt in product(\n",
    "        param_grid['model_type'],\n",
    "        param_grid['train_batch_size'],\n",
    "        param_grid['learning_rate'],\n",
    "        param_grid['optimiser']):\n",
    "    run_id += 1\n",
    "    print(f\"🔍  Run {run_id}: {model_type}, bs={bs}, lr={lr}, opt={opt}\")\n",
    "    hist = run_densenet_training(\n",
    "        model_type=model_type,\n",
    "        epochs=50,                        # shorter epochs for search\n",
    "        train_batch_size=bs,\n",
    "        test_batch_size=256,\n",
    "        learning_rate=lr,\n",
    "        optimiser=opt,\n",
    "        silent=True,                       # assume helper supports this\n",
    "    )\n",
    "    best_acc = max(acc for _loss, acc in hist)\n",
    "    search_results.append({\n",
    "        'model_type': model_type, 'batch_size': bs, 'lr': lr,\n",
    "        'optimiser': opt, 'best_val_acc': best_acc\n",
    "    })\n",
    "\n",
    "print(\"✅  Grid search complete!\")\n"
   ]
  },
  {
   "cell_type": "markdown",
   "id": "5462de8a",
   "metadata": {},
   "source": [
    "### Results DataFrame"
   ]
  },
  {
   "cell_type": "code",
   "execution_count": null,
   "id": "4c49b69d",
   "metadata": {},
   "outputs": [],
   "source": [
    "import pandas as pd\n",
    "res_df = pd.DataFrame(search_results)\n",
    "res_df.sort_values('best_val_acc', ascending=False, inplace=True)\n",
    "res_df.reset_index(drop=True, inplace=True)\n",
    "res_df\n"
   ]
  },
  {
   "cell_type": "markdown",
   "id": "4eb2b578",
   "metadata": {},
   "source": [
    "### Best configuration"
   ]
  },
  {
   "cell_type": "code",
   "execution_count": null,
   "id": "d51e404f",
   "metadata": {},
   "outputs": [],
   "source": [
    "best_cfg = res_df.iloc[0]\n",
    "print(best_cfg)\n"
   ]
  },
  {
   "cell_type": "markdown",
   "id": "6249913c",
   "metadata": {},
   "source": [
    "## 4️⃣  Train best DenseNet from scratch"
   ]
  },
  {
   "cell_type": "code",
   "execution_count": null,
   "id": "52534df9",
   "metadata": {},
   "outputs": [],
   "source": [
    "history_best = run_densenet_training(\n",
    "    model_type=best_cfg.model_type,\n",
    "    epochs=150,\n",
    "    train_batch_size=int(best_cfg.batch_size),\n",
    "    test_batch_size=256,\n",
    "    learning_rate=float(best_cfg.lr),\n",
    "    optimiser=best_cfg.optimiser,\n",
    ")\n"
   ]
  },
  {
   "cell_type": "markdown",
   "id": "c040e107",
   "metadata": {},
   "source": [
    "### Final curves & insights"
   ]
  },
  {
   "cell_type": "code",
   "execution_count": null,
   "id": "fe1e3ab2",
   "metadata": {},
   "outputs": [],
   "source": [
    "val_loss, val_acc = zip(*history_best)\n",
    "plt.figure(figsize=(6,4))\n",
    "plt.plot(val_loss); plt.title('Best DenseNet – validation loss');\n",
    "plt.xlabel('Epoch'); plt.ylabel('Loss'); plt.show()\n",
    "\n",
    "plt.figure(figsize=(6,4))\n",
    "plt.plot(val_acc); plt.title('Best DenseNet – validation accuracy');\n",
    "plt.xlabel('Epoch'); plt.ylabel('Accuracy'); plt.show()\n"
   ]
  },
  {
   "cell_type": "markdown",
   "id": "17d30dfe",
   "metadata": {},
   "source": [
    "## 5️⃣  Next explorations"
   ]
  },
  {
   "cell_type": "markdown",
   "id": "19a5516e",
   "metadata": {},
   "source": [
    "* Try **DenseNet‑BC** variants, vary growth‑rate *k* & compression θ.\n",
    "* Add **cutout / RandAugment** to boost generalisation.\n",
    "* Replace the classifier with **ArcFace** head for metric learning\n",
    "  experiments.\n",
    "* Port the best‑found config onto **Tiny‑Imagenet** to see scaling\n",
    "  behaviour.\n"
   ]
  }
 ],
 "metadata": {},
 "nbformat": 4,
 "nbformat_minor": 5
}
